{
 "cells": [
  {
   "cell_type": "code",
   "execution_count": 1,
   "metadata": {
    "collapsed": true
   },
   "outputs": [],
   "source": [
    "class RedBlackTree:\n",
    "    def __init__(self, key, red = False, left=None, right=None):\n",
    "        \"\"\"\n",
    "        Init Tree\n",
    "        \"\"\"\n",
    "        self.key = key\n",
    "        self.left = left\n",
    "        self.right = right\n",
    "        self.red = red"
   ]
  },
  {
   "cell_type": "code",
   "execution_count": 4,
   "metadata": {
    "collapsed": false
   },
   "outputs": [],
   "source": [
    "def size(B):\n",
    "    if B == None:\n",
    "        return 0\n",
    "    else:\n",
    "        return not(B.red) + size(B.left)+ size(B.right)\n",
    "       "
   ]
  },
  {
   "cell_type": "code",
   "execution_count": 6,
   "metadata": {
    "collapsed": true
   },
   "outputs": [],
   "source": [
    "def height(B):\n",
    "    if B == None:\n",
    "        return -1\n",
    "    else:\n",
    "        return (not(B.red)+ height(B.left))"
   ]
  },
  {
   "cell_type": "code",
   "execution_count": 1,
   "metadata": {
    "collapsed": false
   },
   "outputs": [],
   "source": [
    "def from234(B):\n",
    "    if B == None:\n",
    "        return None\n",
    "    if B.children  == []:\n",
    "        children = [None]*(B.nbKeys+1)\n",
    "    else:\n",
    "        children = B.children\n",
    "    T = RedBlackTree(B.keys[0], red = B.nbKeys>1, left = from234(children[0]),right = from234(children[1]))\n",
    "    if B.nbkeys >1:\n",
    "        T = RedBlackTree(B.keys[1], red = False, left = T,right = from234(children[2]))\n",
    "        if B.nbKeys==2:\n",
    "            T2 = RedBlackTree(B.keys[2], red = True, left = T.right = from234(children[3]))\n",
    "            T.right = T3\n",
    "    return T"
   ]
  },
  {
   "cell_type": "code",
   "execution_count": 8,
   "metadata": {
    "collapsed": true
   },
   "outputs": [],
   "source": [
    "def to234(RBT):\n",
    "    if RBT == None :\n",
    "        return None\n",
    "    else:\n",
    "        B = BTree([],[])\n",
    "        if RBT.left != None and RBT.left.red :\n",
    "            B.keys.append(RBT.left.key)\n",
    "            B.children.append(to234(RBT.left.left))\n",
    "            B.children.append(to234(RBT.left.right))\n",
    "        else :\n",
    "            B.children.append(to234(RBT.left.right))\n",
    "        B.keys.append(RBT.keys)\n",
    "        if RBT.right != None and not RBT.right.red:\n",
    "            B.keys.append(RBT.right.key)\n",
    "            B.children.append(to234(RBT.right.left))\n",
    "            B.children.append(to234(RBT.right.right))\n",
    "        else :\n",
    "            B.children.append(to234(B.right))\n",
    "        if B.children[0] == None:\n",
    "            B.children = []\n",
    "        return B"
   ]
  },
  {
   "cell_type": "code",
   "execution_count": null,
   "metadata": {
    "collapsed": true
   },
   "outputs": [],
   "source": [
    "def split (B):\n",
    "    B.red = True\n",
    "    B.left.red = False\n",
    "    B.right.red = False\n",
    "    return B"
   ]
  },
  {
   "cell_type": "code",
   "execution_count": 4,
   "metadata": {
    "collapsed": true
   },
   "outputs": [],
   "source": [
    "def rotD(B):\n",
    "    T = B.left\n",
    "    B.left = T.right\n",
    "    T.right = B\n",
    "    T.red = False\n",
    "    T.right.red = True\n",
    "    return T"
   ]
  },
  {
   "cell_type": "code",
   "execution_count": 6,
   "metadata": {
    "collapsed": true
   },
   "outputs": [],
   "source": [
    "def rotG(B):\n",
    "    T = B.right\n",
    "    B.right = T.left\n",
    "    T.left = B\n",
    "    T.red = False\n",
    "    T.left.red = True\n",
    "    return T"
   ]
  },
  {
   "cell_type": "code",
   "execution_count": 7,
   "metadata": {
    "collapsed": true
   },
   "outputs": [],
   "source": [
    "def rotGD(B):\n",
    "    RL = B.left.right\n",
    "    B.left.right == RL.left\n",
    "    RL.left = B.left\n",
    "    RL.red = False\n",
    "    B.red = True\n",
    "    B.left = RL.right\n",
    "    RL.right = B\n",
    "    B = RL\n",
    "    return B"
   ]
  },
  {
   "cell_type": "code",
   "execution_count": 1,
   "metadata": {
    "collapsed": true
   },
   "outputs": [],
   "source": [
    "def rotGD(B):\n",
    "    RL = B.right.left\n",
    "    B.right.left == RL.right\n",
    "    RL.right = B.right\n",
    "    RL.red = False\n",
    "    B.red = True\n",
    "    B.right = RL.left\n",
    "    RL.left = B\n",
    "    B = RL\n",
    "    return B"
   ]
  },
  {
   "cell_type": "code",
   "execution_count": 8,
   "metadata": {
    "collapsed": false
   },
   "outputs": [],
   "source": [
    "def insertion (x ,RBT):\n",
    "    if RBT == None:\n",
    "        return RedBlackTree(x,red = True),1\n",
    "    else :\n",
    "        if x == RBT.key :\n",
    "            return RBT, 0\n",
    "        elif x < RBT.key :\n",
    "            RBT.left, nbRed = insertion(x, RBT.left)\n",
    "            if RBT.red:\n",
    "                return RBT, nbRed + 1\n",
    "            else:\n",
    "                if abs (nbRed) == 2:\n",
    "                    if RBT.right and RBT.right.red:\n",
    "                        split(RBT)\n",
    "                        return RBT, 1\n",
    "                    #elif RBT.left.left and RBT.let.left.red:\n",
    "                    elif nbRed >0:\n",
    "                        RBT = rotD(RBT)\n",
    "                    else :\n",
    "                        RBT = rotGD(RBT)\n",
    "                return RBT, 0\n",
    "        else :\n",
    "            RBT.right, nbRed = insertion(x, RBT.right)\n",
    "            if RBT.red:\n",
    "                return (RBT, 1-3 *nbRed)\n",
    "            else:\n",
    "                if abs (nbRed) == 2:\n",
    "                    if RBT.left and RBT.left.red:\n",
    "                        split(RBT)\n",
    "                        return RBT, 1\n",
    "                    #elif RBT.right.right and RBT.right.right.red:\n",
    "                    elif nbRed < 0:\n",
    "                        RBT = rotG(RBT)\n",
    "                    else :\n",
    "                        RBT = rotDG(RBT)\n",
    "                return RBT, 0\n",
    "        return RBT"
   ]
  },
  {
   "cell_type": "code",
   "execution_count": null,
   "metadata": {
    "collapsed": true
   },
   "outputs": [],
   "source": [
    "def insert (x, RBT):\n",
    "    RBT, nbRed = isertion(x, RBT)\n",
    "    RBT.red = False\n",
    "    return RBT"
   ]
  }
 ],
 "metadata": {
  "kernelspec": {
   "display_name": "Python 3",
   "language": "python",
   "name": "python3"
  },
  "language_info": {
   "codemirror_mode": {
    "name": "ipython",
    "version": 3
   },
   "file_extension": ".py",
   "mimetype": "text/x-python",
   "name": "python",
   "nbconvert_exporter": "python",
   "pygments_lexer": "ipython3",
   "version": "3.6.0"
  }
 },
 "nbformat": 4,
 "nbformat_minor": 2
}
