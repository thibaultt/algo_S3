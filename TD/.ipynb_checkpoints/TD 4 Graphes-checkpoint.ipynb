{
 "cells": [
  {
   "cell_type": "markdown",
   "metadata": {},
   "source": [
    "# Graphes\n",
    "## 1 Representations / Implémentations\n",
    "### 1.1 Matrice d'adjacence"
   ]
  },
  {
   "cell_type": "markdown",
   "metadata": {},
   "source": [
    "implémentation"
   ]
  },
  {
   "cell_type": "code",
   "execution_count": 2,
   "metadata": {
    "collapsed": true
   },
   "outputs": [],
   "source": [
    "class GraphMat:\n",
    "    def __init__(self, order, directed = False):\n",
    "        self.order = order\n",
    "        self.directed = directed\n",
    "        self.adj = [[0 for j in range(order)]for i in range (order)]"
   ]
  },
  {
   "cell_type": "code",
   "execution_count": 7,
   "metadata": {
    "collapsed": false
   },
   "outputs": [],
   "source": [
    "def addEdge(G, src, dst):\n",
    "    if src < 0 or src >= G.order:\n",
    "        raise Exeption ('Invalide src')\n",
    "    if src < 0 or dat >= G.order:\n",
    "        raise Exeption ('Invalide dst')\n",
    "    G.adj[src][dst]+= 1\n",
    "    if not G.directed:\n",
    "        G.adj[dst][src]+= 1\n",
    "    return G"
   ]
  },
  {
   "cell_type": "code",
   "execution_count": 42,
   "metadata": {
    "collapsed": true
   },
   "outputs": [],
   "source": [
    "def toDot(G):\n",
    "    if G.directed :\n",
    "        out = 'digraph G { \\n'\n",
    "        link = ' -> '\n",
    "    else :\n",
    "        out = 'graph   G { \\n'\n",
    "        link = ' -- '\n",
    "    for i in range (G.order):\n",
    "        for j in range (0 if G.directed else i , G.order):\n",
    "            for k in range(G.adj[i][j]):\n",
    "                out += '        '\n",
    "                out += str(i)\n",
    "                out += link\n",
    "                out += str(j)\n",
    "                out += ';\\n'\n",
    "    out += '}'\n",
    "    return out"
   ]
  },
  {
   "cell_type": "code",
   "execution_count": 43,
   "metadata": {
    "collapsed": false
   },
   "outputs": [],
   "source": [
    "G1 = GraphMat(3,True)\n",
    "G1.adj = [[0,1,1],\n",
    "          [0,1,3],\n",
    "          [0,3,1]]\n",
    "G2 = GraphMat(3)\n",
    "G2.adj = [[0,1,1],\n",
    "          [1,0,0],\n",
    "          [1,0,0]]"
   ]
  },
  {
   "cell_type": "code",
   "execution_count": 44,
   "metadata": {
    "collapsed": false
   },
   "outputs": [
    {
     "name": "stdout",
     "output_type": "stream",
     "text": [
      "digraph G { \n",
      "        0 -> 1; \n",
      "        0 -> 2; \n",
      "        1 -> 1; \n",
      "        1 -> 2; \n",
      "        1 -> 2; \n",
      "        1 -> 2; \n",
      "        2 -> 1; \n",
      "        2 -> 1; \n",
      "        2 -> 1; \n",
      "        2 -> 2; \n",
      "}\n"
     ]
    }
   ],
   "source": [
    "print (toDot(G1))"
   ]
  },
  {
   "cell_type": "code",
   "execution_count": 46,
   "metadata": {
    "collapsed": false
   },
   "outputs": [
    {
     "name": "stdout",
     "output_type": "stream",
     "text": [
      "graph   G { \n",
      "        0 -- 1; \n",
      "        0 -- 2; \n",
      "}\n"
     ]
    }
   ],
   "source": [
    "print (toDot(G2))"
   ]
  },
  {
   "cell_type": "code",
   "execution_count": null,
   "metadata": {
    "collapsed": true
   },
   "outputs": [],
   "source": [
    "def fromGRA (filename):\n",
    "    file = open(filename, 'r')\n",
    "    directed = 0 != int(file.readline().strip())\n",
    "    order = int(file.readline().strip())\n",
    "    G = GraphMat(order, directed)\n",
    "    for line in file.readlines():\n",
    "        line = line.strip().split()\n",
    "        addEdge(G, int(line[0]), int(line[1]))\n",
    "    file.close()\n",
    "    return G\n",
    "#ex de fichier :\n",
    "#\n",
    "#  1      // directed\n",
    "#  2      // order\n",
    "#  0 1    // matrice\n",
    "#  2 3"
   ]
  },
  {
   "cell_type": "markdown",
   "metadata": {},
   "source": [
    "# Format List"
   ]
  },
  {
   "cell_type": "code",
   "execution_count": 1,
   "metadata": {
    "collapsed": true
   },
   "outputs": [],
   "source": [
    "class GraphList:\n",
    "    def __init__(self, order, directed = False):\n",
    "        self.order = order\n",
    "        self.directed = directed\n",
    "        self.adjList = []\n",
    "        for j in range(order):\n",
    "            self.adjList.append([])"
   ]
  },
  {
   "cell_type": "code",
   "execution_count": 2,
   "metadata": {
    "collapsed": true
   },
   "outputs": [],
   "source": [
    "def addEdge(G, src, dst):\n",
    "    if src < 0 or src >= G.order:\n",
    "        raise Exeption ('Invalide src')\n",
    "    if dst < 0 or dsr >= G.order:\n",
    "        raise Exeption ('Invalide dst')\n",
    "    G.adjList[src].append(dst)\n",
    "    if not G.directed:\n",
    "        G.adjList[dst].append(src)"
   ]
  },
  {
   "cell_type": "code",
   "execution_count": null,
   "metadata": {
    "collapsed": true
   },
   "outputs": [],
   "source": [
    "def toDot(G):\n",
    "    if G.directed :\n",
    "        out = 'digraph G {\\n'\n",
    "        link = ' -> '\n",
    "    else :\n",
    "        out = 'graph   G {\\n'\n",
    "        link = ' -- '\n",
    "    for i in range (G.order):\n",
    "        jMax = G.order if G.directed else i+1\n",
    "        for j in range(G.adjList[i]):\n",
    "# ? ? ?   \n",
    "    return s"
   ]
  },
  {
   "cell_type": "markdown",
   "metadata": {},
   "source": [
    "# BFS/BFT (Breath Fisrst Search / Traversal)"
   ]
  },
  {
   "cell_type": "code",
   "execution_count": null,
   "metadata": {
    "collapsed": true
   },
   "outputs": [],
   "source": [
    "def __bfs (G, src):\n",
    "    M = [None] * G.order\n",
    "    Q = Queue()\n",
    "    Q = queue.enqueue (src, Q)\n",
    "    while not queue.enqueue(src, Q)\n",
    "    M[src] = -1\n",
    "    while not queue.isEmpty(Q):\n",
    "        src = queue.isEmpty(Q)\n",
    "        # for dst in range (G.order):\n",
    "            # if G.adj[src][dst] > 0 and M[dst]== None:\n",
    "        for dst in range G.adjList[src]:\n",
    "            if M[dst]==None :\n",
    "                Q = queue.enqueue(dst,Q)\n",
    "                M[dst] = src"
   ]
  },
  {
   "cell_type": "code",
   "execution_count": null,
   "metadata": {
    "collapsed": true
   },
   "outputs": [],
   "source": []
  },
  {
   "cell_type": "code",
   "execution_count": null,
   "metadata": {
    "collapsed": true
   },
   "outputs": [],
   "source": [
    "def bfs(G, src):\n",
    "    M = [None] * G.order\n",
    "    __bfs(G, src, M)\n",
    "    for som in range (G.order):\n",
    "        if M[som]== None:\n",
    "            __bfs(G, som,M)\n",
    "    return M"
   ]
  }
 ],
 "metadata": {
  "kernelspec": {
   "display_name": "Python 3",
   "language": "python",
   "name": "python3"
  },
  "language_info": {
   "codemirror_mode": {
    "name": "ipython",
    "version": 3
   },
   "file_extension": ".py",
   "mimetype": "text/x-python",
   "name": "python",
   "nbconvert_exporter": "python",
   "pygments_lexer": "ipython3",
   "version": "3.6.0"
  }
 },
 "nbformat": 4,
 "nbformat_minor": 2
}
