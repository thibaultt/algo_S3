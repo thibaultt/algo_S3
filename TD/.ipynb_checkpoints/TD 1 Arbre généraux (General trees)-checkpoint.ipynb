{
 "cells": [
  {
   "cell_type": "markdown",
   "metadata": {},
   "source": [
    "### imports"
   ]
  },
  {
   "cell_type": "code",
   "execution_count": 1,
   "metadata": {
    "collapsed": true
   },
   "outputs": [],
   "source": [
    "from collections import deque\n",
    "\n",
    "class Queue:\n",
    "    def __init__(self):\n",
    "        self.elements = deque()\n",
    "\n",
    "def enqueue(e, q):\n",
    "    q.elements.append(e)\n",
    "\n",
    "def dequeue(q):\n",
    "    return q.elements.popleft()\n",
    "\n",
    "def isEmpty(q): # empty ?\n",
    "    return len(q.elements) == 0"
   ]
  },
  {
   "cell_type": "code",
   "execution_count": 2,
   "metadata": {
    "collapsed": true
   },
   "outputs": [],
   "source": [
    "from collections import deque\n",
    "\n",
    "class Stack:\n",
    "    def __init__(self):\n",
    "        self.elements = deque()\n",
    "\n",
    "def push(e, s):\n",
    "    s.elements.append(e)\n",
    "\n",
    "def top(s):\n",
    "    return s.elements[-1]\n",
    "\n",
    "def pop(s):\n",
    "    return s.elements.pop()\n",
    "\n",
    "def isEmpty(s): # empty ?\n",
    "    return len(s.elements) == 0"
   ]
  },
  {
   "cell_type": "code",
   "execution_count": 3,
   "metadata": {
    "collapsed": false
   },
   "outputs": [],
   "source": [
    "class tree :\n",
    "    #Simple class for general tree\"\"\"\n",
    "    def __init__(self, key=None,children=None):\n",
    "    #Init general tree, ensure children are properly set.\"\"\"\n",
    "        self.key = key\n",
    "        if children is not None:\n",
    "            self.children = children\n",
    "        else:\n",
    "            self.children = []\n",
    "        @property\n",
    "        def nbChildren(self):\n",
    "            return len(self.children)"
   ]
  },
  {
   "cell_type": "code",
   "execution_count": 4,
   "metadata": {
    "collapsed": true
   },
   "outputs": [],
   "source": [
    "class TreeAsBin :\n",
    "    #simple class for (general) trees\n",
    "    #represented as binary trees(first child -right sibling)\n",
    "    def __init__(self, key, child=None, sibling=None):\n",
    "        #Init tree\n",
    "        self.key = key\n",
    "        self.child = child\n",
    "        self.sibling = sibling"
   ]
  },
  {
   "cell_type": "markdown",
   "metadata": {},
   "source": [
    "### trees"
   ]
  },
  {
   "cell_type": "code",
   "execution_count": 5,
   "metadata": {
    "collapsed": false
   },
   "outputs": [
    {
     "ename": "NameError",
     "evalue": "name 'Tree' is not defined",
     "output_type": "error",
     "traceback": [
      "\u001b[0;31m---------------------------------------------------------------------------\u001b[0m",
      "\u001b[0;31mNameError\u001b[0m                                 Traceback (most recent call last)",
      "\u001b[0;32m<ipython-input-5-d48fab1bdfbc>\u001b[0m in \u001b[0;36m<module>\u001b[0;34m()\u001b[0m\n\u001b[0;32m----> 1\u001b[0;31m \u001b[0mA\u001b[0m \u001b[0;34m=\u001b[0m \u001b[0mTree\u001b[0m\u001b[0;34m(\u001b[0m\u001b[0;36m6\u001b[0m\u001b[0;34m,\u001b[0m \u001b[0;34m[\u001b[0m\u001b[0mTree\u001b[0m\u001b[0;34m(\u001b[0m\u001b[0;36m3\u001b[0m\u001b[0;34m)\u001b[0m\u001b[0;34m,\u001b[0m \u001b[0mTree\u001b[0m\u001b[0;34m(\u001b[0m\u001b[0;36m2\u001b[0m\u001b[0;34m)\u001b[0m\u001b[0;34m]\u001b[0m\u001b[0;34m)\u001b[0m\u001b[0;34m\u001b[0m\u001b[0m\n\u001b[0m\u001b[1;32m      2\u001b[0m \u001b[0mB\u001b[0m \u001b[0;34m=\u001b[0m \u001b[0mTreeAsBin\u001b[0m\u001b[0;34m(\u001b[0m\u001b[0;36m6\u001b[0m\u001b[0;34m,\u001b[0m \u001b[0mTreeAsBin\u001b[0m\u001b[0;34m(\u001b[0m\u001b[0;36m3\u001b[0m\u001b[0;34m,\u001b[0m \u001b[0msibling\u001b[0m\u001b[0;34m=\u001b[0m\u001b[0mTreeAsBin\u001b[0m\u001b[0;34m(\u001b[0m\u001b[0;36m2\u001b[0m\u001b[0;34m)\u001b[0m\u001b[0;34m)\u001b[0m\u001b[0;34m)\u001b[0m\u001b[0;34m\u001b[0m\u001b[0m\n",
      "\u001b[0;31mNameError\u001b[0m: name 'Tree' is not defined"
     ]
    }
   ],
   "source": [
    "A = Tree(6, [Tree(3), Tree(2)])\n",
    "B = TreeAsBin(6, TreeAsBin(3, sibling=TreeAsBin(2)))"
   ]
  },
  {
   "cell_type": "markdown",
   "metadata": {
    "collapsed": true
   },
   "source": [
    "## TD ALGO 1 Arbres Géneraux\n",
    "## Exercie 1.1"
   ]
  },
  {
   "cell_type": "code",
   "execution_count": null,
   "metadata": {
    "collapsed": false
   },
   "outputs": [],
   "source": [
    "def taille01(A):\n",
    "    if A == None:\n",
    "        return 0\n",
    "    else:\n",
    "        x =1\n",
    "        for i in range(len(A.children)):\n",
    "            x += taille01(A.children[i])\n",
    "        return x"
   ]
  },
  {
   "cell_type": "code",
   "execution_count": null,
   "metadata": {
    "collapsed": true
   },
   "outputs": [],
   "source": [
    "def taille02(A):\n",
    "    if A == None:\n",
    "        return 0\n",
    "    else:\n",
    "        x =1\n",
    "        while(A.sibling != None):\n",
    "            x += taille(A.sibling)\n",
    "            A = A.sibling\n",
    "        return x"
   ]
  },
  {
   "cell_type": "code",
   "execution_count": null,
   "metadata": {
    "collapsed": false
   },
   "outputs": [],
   "source": [
    "print (taille01(A))"
   ]
  },
  {
   "cell_type": "code",
   "execution_count": null,
   "metadata": {
    "collapsed": true
   },
   "outputs": [],
   "source": []
  },
  {
   "cell_type": "markdown",
   "metadata": {
    "collapsed": true
   },
   "source": [
    "# Exercice 1.2"
   ]
  },
  {
   "cell_type": "code",
   "execution_count": null,
   "metadata": {
    "collapsed": true
   },
   "outputs": [],
   "source": [
    "def hauteur01(A):\n",
    "    if A == None:\n",
    "        return -1\n",
    "    else :\n",
    "        return max (hauteur01(A.child)+1, hauteur01(A.sibling))"
   ]
  },
  {
   "cell_type": "code",
   "execution_count": null,
   "metadata": {
    "collapsed": true
   },
   "outputs": [],
   "source": [
    "def hauteur02(A):\n",
    "    if A == None:\n",
    "        return -1\n",
    "    else:\n",
    "        h = -1\n",
    "        child = A.child\n",
    "        while child != None:\n",
    "            h = max(h, hauteur02(child))\n",
    "            child = child.sibling\n",
    "        return 1+h"
   ]
  },
  {
   "cell_type": "markdown",
   "metadata": {
    "collapsed": true
   },
   "source": [
    "# Exercice 1.3"
   ]
  },
  {
   "cell_type": "code",
   "execution_count": null,
   "metadata": {
    "collapsed": true
   },
   "outputs": [],
   "source": [
    "def __moyarite(A):\n",
    "    if A == None:\n",
    "        return 0,0\n",
    "    else:\n",
    "        nbint ,nblink = 0,0\n",
    "        if A.child != None:\n",
    "            nbint += 1\n",
    "        child = A.child\n",
    "        while child != None:\n",
    "            nblink += 1\n",
    "            chint, chlink = __moyarite(child)\n",
    "            nbint, nblink = nbint + chint, nblink + chlink\n",
    "            child = child.sibling\n",
    "        return nbint, nblink"
   ]
  },
  {
   "cell_type": "code",
   "execution_count": null,
   "metadata": {
    "collapsed": true
   },
   "outputs": [],
   "source": [
    "def __moyarite(A):\n",
    "    if A == None:\n",
    "        return 0,0\n",
    "    else:\n",
    "        nbint = 1 if A.child else 1\n",
    "        nblink =0\n",
    "        chint , chlink = __moyarite(A.child)\n",
    "        sibint , siblink = __moyarite(A.sibling)\n",
    "        return (nbint + chint + sibint, nblink + chlink + sibint)"
   ]
  },
  {
   "cell_type": "code",
   "execution_count": null,
   "metadata": {
    "collapsed": true
   },
   "outputs": [],
   "source": [
    "def moyarite(A):\n",
    "    if A == None:\n",
    "        raise Exeption(\"Empty tree\")\n",
    "    nbint, nblink = __moyarite(A)\n",
    "    if nbint == 0:\n",
    "        return 0\n",
    "    else:\n",
    "        return nblink / nbint"
   ]
  },
  {
   "cell_type": "markdown",
   "metadata": {
    "collapsed": true
   },
   "source": [
    "# Exercice 2.1"
   ]
  },
  {
   "cell_type": "code",
   "execution_count": null,
   "metadata": {
    "collapsed": true
   },
   "outputs": [],
   "source": [
    "def depth01(T,father = None):\n",
    "    if T != None:\n",
    "        #traitement prefixe\n",
    "        depth01(T.child,T)\n",
    "        #traitement suffice\n",
    "        if (father != None and T.sibling != None):\n",
    "        #if fahter and T.sibling :\n",
    "            #traitement intermédiaire sur father\n",
    "            depth01 (T.sibling, father)"
   ]
  },
  {
   "cell_type": "code",
   "execution_count": null,
   "metadata": {
    "collapsed": true
   },
   "outputs": [],
   "source": [
    "def depth01TAB(T):\n",
    "    if T == None :\n",
    "        return \n",
    "    #traitement prefixe\n",
    "    print ('prefix ', T.key)\n",
    "    child = T.child\n",
    "    while child != None :\n",
    "        depthTAB(child)\n",
    "        if child.sibling != None:\n",
    "            #inter\n",
    "            print ('intrer ', T.key)\n",
    "        child = child.sibling\n",
    "    #traitement suffixe\n",
    "    print('suffix ', T.key)"
   ]
  },
  {
   "cell_type": "code",
   "execution_count": null,
   "metadata": {
    "collapsed": true
   },
   "outputs": [],
   "source": [
    "def depth02(T):\n",
    "    if T:\n",
    "        #traitement prefixe\n",
    "        if T.nbChildren > 0:\n",
    "            for i in range (T.nbChildren-1):\n",
    "                depth02(T.children[i])\n",
    "                #traitement intermédiaire\n",
    "            depth02(T.children[-1])\n",
    "        #traitement suffixe"
   ]
  },
  {
   "cell_type": "markdown",
   "metadata": {
    "collapsed": true
   },
   "source": [
    "# Exercice 2.2 "
   ]
  },
  {
   "cell_type": "code",
   "execution_count": null,
   "metadata": {
    "collapsed": true
   },
   "outputs": [],
   "source": [
    "def withTAB(T):\n",
    "    q = Queue()\n",
    "    q.enqueue(T,q)\n",
    "    q.enqueue(None,q)\n",
    "    while not q.isEmpty (q):\n",
    "        node = q.dequeue(q)\n",
    "        if node == None:\n",
    "            print()\n",
    "            if not q.isEmpty (q):\n",
    "                q.enqueue.child\n",
    "        else:\n",
    "            print(node.key, end=' ')\n",
    "            child = node.child\n",
    "            while child != None:\n",
    "                q.enqueue(child, q)\n",
    "                child = child.sibling"
   ]
  },
  {
   "cell_type": "code",
   "execution_count": null,
   "metadata": {
    "collapsed": true
   },
   "outputs": [],
   "source": [
    "def breadth(T):\n",
    "    q = Queue()\n",
    "    q.enqueue(T,q)\n",
    "    q.enqueue(None,q)\n",
    "    while not q.isEmpty (q):\n",
    "        node = q.dequeue(q)\n",
    "        if node == None:\n",
    "            print()\n",
    "            if not q.isEmpty (q):\n",
    "                q.enqueue.child\n",
    "        else:\n",
    "            print(node.key, end=' ')\n",
    "            for i in range (T.nbChildren):\n",
    "                q.enqueue(T.children[i])"
   ]
  },
  {
   "cell_type": "markdown",
   "metadata": {
    "collapsed": true
   },
   "source": [
    "# Exercice 3.1"
   ]
  },
  {
   "cell_type": "code",
   "execution_count": null,
   "metadata": {
    "collapsed": true
   },
   "outputs": [],
   "source": [
    "def __preSuff01 (T, L):\n",
    "    if T == None:\n",
    "        return\n",
    "    #preffix\n",
    "    L.append(T.key)\n",
    "    #children\n",
    "    for i in range (T.nbChildren):\n",
    "        prefSuff(T.children[i],L)\n",
    "    #suff\n",
    "    L.append(T.key)\n",
    "    return L"
   ]
  },
  {
   "cell_type": "code",
   "execution_count": null,
   "metadata": {
    "collapsed": true
   },
   "outputs": [],
   "source": [
    "def __preSuff (T, L):\n",
    "    if T == None:\n",
    "        return\n",
    "    #preffix\n",
    "    L.append(T.key)\n",
    "    #children\n",
    "    for i in range (T.nbChildren):\n",
    "        prefSuff(T.children[i],L)\n",
    "    #suff\n",
    "    L.append(T.key)\n",
    "    return L\n",
    "\n",
    "def prefSuff(T):\n",
    "    __prefSuff(T,[])"
   ]
  },
  {
   "cell_type": "markdown",
   "metadata": {
    "collapsed": true
   },
   "source": [
    "# Exercice 3.2"
   ]
  },
  {
   "cell_type": "code",
   "execution_count": null,
   "metadata": {
    "collapsed": true
   },
   "outputs": [],
   "source": [
    "def __same(T,B):\n",
    "    res = T.key == B.key\n",
    "    if res:\n",
    "        child, i = B.child, 0\n",
    "        while res and child != None and i<len(T.children):\n",
    "            res = __same(T.children[i],child)\n",
    "            child = child.sibling\n",
    "            i += 1\n",
    "        res = res and i == len(T.children) and child == None\n",
    "    return res"
   ]
  },
  {
   "cell_type": "code",
   "execution_count": null,
   "metadata": {
    "collapsed": true
   },
   "outputs": [],
   "source": [
    "def same(T,B):\n",
    "    if T != None and B != None:\n",
    "        return __same(T,B)\n",
    "    return T == None and B == None \n",
    "    # T == B"
   ]
  },
  {
   "cell_type": "markdown",
   "metadata": {
    "collapsed": true
   },
   "source": [
    "# Exercice 3.3.1"
   ]
  },
  {
   "cell_type": "code",
   "execution_count": null,
   "metadata": {
    "collapsed": true
   },
   "outputs": [],
   "source": [
    "def totree(B):\n",
    "    if B == None:\n",
    "        return None\n",
    "    T = Tree(B.key)\n",
    "    children = []\n",
    "    child = B.child\n",
    "    while child != None:\n",
    "        T.children.append(totree(child))\n",
    "        child = child.sibling\n",
    "    return T"
   ]
  },
  {
   "cell_type": "markdown",
   "metadata": {
    "collapsed": true
   },
   "source": [
    "# Exercice 3.3.2"
   ]
  },
  {
   "cell_type": "code",
   "execution_count": null,
   "metadata": {
    "collapsed": true
   },
   "outputs": [],
   "source": [
    "def tobin(T):\n",
    "    if T == None:\n",
    "        return None\n",
    "    B = TreeAsBin(T.key,tobin(T.chidren[0]))\n",
    "    for i in range(1,len(T.childrens)-1):\n",
    "        B.child.sibling = tobin(T.children(i))\n",
    "        B = B.sibling\n",
    "    return B"
   ]
  },
  {
   "cell_type": "code",
   "execution_count": null,
   "metadata": {
    "collapsed": true
   },
   "outputs": [],
   "source": [
    "def genToTAB(B):\n",
    "    if B == None:\n",
    "        return None\n",
    "    T = TreeAsBin(B.key)\n",
    "    if B.nbChildren == 0:\n",
    "        return T\n",
    "    else:\n",
    "        i = 1\n",
    "        R = T\n",
    "        T.child = genToTAB(B.children[0])\n",
    "        T = T.child\n",
    "        while (i<B.nbChildren):\n",
    "            T.sibling = genToTAB(B.children[i])\n",
    "            T = T.sibling\n",
    "            i += 1\n",
    "        return R"
   ]
  },
  {
   "cell_type": "code",
   "execution_count": null,
   "metadata": {
    "collapsed": true
   },
   "outputs": [],
   "source": [
    "same(A, genToTAB(A))"
   ]
  },
  {
   "cell_type": "markdown",
   "metadata": {
    "collapsed": true
   },
   "source": [
    "# Exercice 3.4.1"
   ]
  },
  {
   "cell_type": "markdown",
   "metadata": {
    "collapsed": true
   },
   "source": [
    "###### a) A = (15(3((-6)(10))(8((11(0)(4))(2)(5))(9))"
   ]
  },
  {
   "cell_type": "markdown",
   "metadata": {},
   "source": [
    "# Exercice 3.4.2 a)"
   ]
  },
  {
   "cell_type": "code",
   "execution_count": null,
   "metadata": {
    "collapsed": true
   },
   "outputs": [],
   "source": [
    "def TABToList(A):\n",
    "    if A == None:\n",
    "        return \"\"\n",
    "    string = \"({}\".format(T.key)\n",
    "    # string = \"(\" + str(T.key)\n",
    "    for i in T.children:\n",
    "        string += TabToList(i)\n",
    "    return string +\")\""
   ]
  },
  {
   "cell_type": "markdown",
   "metadata": {},
   "source": [
    "# Exercice 3.4.2 b)"
   ]
  },
  {
   "cell_type": "code",
   "execution_count": null,
   "metadata": {
    "collapsed": true
   },
   "outputs": [],
   "source": [
    "def AsBinToList(A):\n",
    "    string = \"\"\n",
    "    if B == None:\n",
    "        return string \n",
    "    return (\"(\" + str(B.key) + AsBinToList(B.child) + \")\" + AsBinToList(B.sibling))"
   ]
  },
  {
   "cell_type": "markdown",
   "metadata": {},
   "source": [
    "# Exercice 3.5"
   ]
  },
  {
   "cell_type": "code",
   "execution_count": null,
   "metadata": {
    "collapsed": true
   },
   "outputs": [],
   "source": [
    "#SAMAIRE\n",
    "def __treeToDotFile(T,file):\n",
    "    if T != None:\n",
    "        file.write('  '+ str(T.key))\n",
    "        if T.nbChildren > 0:\n",
    "            file.write(' -- {')\n",
    "            for child in T.children:\n",
    "                file.write(str(child.key)+ ' ')\n",
    "            file.write('}')\n",
    "        file.write('\\n')\n",
    "        for child in T.childen:\n",
    "            __treeToDotFile(child, file)"
   ]
  },
  {
   "cell_type": "code",
   "execution_count": null,
   "metadata": {
    "collapsed": true
   },
   "outputs": [],
   "source": [
    "def treeToDOtFile(T, filename):\n",
    "    file = open(filename, 'w')\n",
    "    file.write(\"graph {\\n\")\n",
    "    __treeToDotFile(T,file)\n",
    "    fil.write(\"}\\n\")\n",
    "    file.close()"
   ]
  }
 ],
 "metadata": {
  "kernelspec": {
   "display_name": "Python 3",
   "language": "python",
   "name": "python3"
  },
  "language_info": {
   "codemirror_mode": {
    "name": "ipython",
    "version": 3
   },
   "file_extension": ".py",
   "mimetype": "text/x-python",
   "name": "python",
   "nbconvert_exporter": "python",
   "pygments_lexer": "ipython3",
   "version": "3.6.0"
  }
 },
 "nbformat": 4,
 "nbformat_minor": 2
}
