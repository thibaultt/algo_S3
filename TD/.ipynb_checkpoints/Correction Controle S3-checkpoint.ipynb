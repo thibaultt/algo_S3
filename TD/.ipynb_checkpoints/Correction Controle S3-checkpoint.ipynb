{
 "cells": [
  {
   "cell_type": "markdown",
   "metadata": {},
   "source": [
    "Exercice 2, 2)"
   ]
  },
  {
   "cell_type": "code",
   "execution_count": 2,
   "metadata": {
    "collapsed": true
   },
   "outputs": [],
   "source": [
    "def __buildParentVect(T,P,parent):\n",
    "    if T != None:\n",
    "        P[T.key] = parent\n",
    "        __buildParentVect(T.child, P, T.key)\n",
    "        __buildParentVect(T.sibling,P, parent)"
   ]
  },
  {
   "cell_type": "code",
   "execution_count": 3,
   "metadata": {
    "collapsed": true
   },
   "outputs": [],
   "source": [
    "def buildParentVect(T,n):\n",
    "    P = [-1]*n\n",
    "    __buildParentVect(T,P,-1)\n",
    "    return P"
   ]
  },
  {
   "cell_type": "markdown",
   "metadata": {},
   "source": [
    "Exercice 3"
   ]
  },
  {
   "cell_type": "code",
   "execution_count": 4,
   "metadata": {
    "collapsed": true
   },
   "outputs": [],
   "source": [
    "def __fromList(s, i=0):\n",
    "    i+=1\n",
    "    #\n",
    "    k = \"\"\n",
    "    while s[i] != '(' and s[i] != ')':\n",
    "        k+= s[i]\n",
    "        i+=1\n",
    "    T = Tree(int(k))\n",
    "    #children?\n",
    "    while s[i] != ')':\n",
    "        C,i = __fromList(s,i)\n",
    "        T.children.append(C)\n",
    "    return T,i+1"
   ]
  },
  {
   "cell_type": "code",
   "execution_count": 5,
   "metadata": {
    "collapsed": true
   },
   "outputs": [],
   "source": [
    "def fromList(L):\n",
    "    T,i = __fromList(s)\n",
    "    return T"
   ]
  },
  {
   "cell_type": "markdown",
   "metadata": {},
   "source": [
    "Exercice 5"
   ]
  },
  {
   "cell_type": "code",
   "execution_count": null,
   "metadata": {
    "collapsed": true
   },
   "outputs": [],
   "source": [
    "def findNext(B,x):\n",
    "    vNext,i = None,0\n",
    "    while i< B.nbKeys and B.keys[i] <= x:\n",
    "        i+=1\n",
    "    if B.children == []:\n",
    "        if i<B.nbKeys:\n",
    "            return B.keys[i]\n",
    "        else:\n",
    "            return None\n",
    "    else:\n",
    "        vNext = findNext(B.children[i], x)\n",
    "        if vNext != None:\n",
    "            return vNext\n",
    "        elif i<B.nbKeys :\n",
    "            return B.keys[i]\n",
    "        else:\n",
    "            return None"
   ]
  }
 ],
 "metadata": {
  "kernelspec": {
   "display_name": "Python 3",
   "language": "python",
   "name": "python3"
  },
  "language_info": {
   "codemirror_mode": {
    "name": "ipython",
    "version": 3
   },
   "file_extension": ".py",
   "mimetype": "text/x-python",
   "name": "python",
   "nbconvert_exporter": "python",
   "pygments_lexer": "ipython3",
   "version": "3.6.0"
  }
 },
 "nbformat": 4,
 "nbformat_minor": 2
}
