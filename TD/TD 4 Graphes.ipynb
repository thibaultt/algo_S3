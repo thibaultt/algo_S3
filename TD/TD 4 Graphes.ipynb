{
 "cells": [
  {
   "cell_type": "markdown",
   "metadata": {},
   "source": [
    "# Graphes\n",
    "## 1 Representations / Implémentations\n",
    "### 1.1 Matrice d'adjacence"
   ]
  },
  {
   "cell_type": "markdown",
   "metadata": {},
   "source": [
    "implémentation"
   ]
  },
  {
   "cell_type": "code",
   "execution_count": 32,
   "metadata": {
    "collapsed": true
   },
   "outputs": [],
   "source": [
    "class GraphMat:\n",
    "    def __init__(self, order, directed = False):\n",
    "        self.order = order\n",
    "        self.directed = directed\n",
    "        self.adj = [[0 for j in range(order)]for i in range (order)]"
   ]
  },
  {
   "cell_type": "code",
   "execution_count": 33,
   "metadata": {
    "collapsed": true
   },
   "outputs": [],
   "source": [
    "class GraphList:\n",
    "    def __init__(self, order, directed = False):\n",
    "        self.order = order\n",
    "        self.directed = directed\n",
    "        #self.order = None\n",
    "        self.adjLists = []\n",
    "        for i in range(order):\n",
    "            self.adjLists.append([])"
   ]
  },
  {
   "cell_type": "code",
   "execution_count": 34,
   "metadata": {
    "collapsed": false
   },
   "outputs": [],
   "source": [
    "def addEdge(G, src, dst):\n",
    "    if src < 0 or src >= G.order:\n",
    "        raise Exeption ('Invalide src')\n",
    "    if src < 0 or dat >= G.order:\n",
    "        raise Exeption ('Invalide dst')\n",
    "    G.adj[src][dst]+= 1\n",
    "    if not G.directed:\n",
    "        G.adj[dst][src]+= 1\n",
    "    return G"
   ]
  },
  {
   "cell_type": "code",
   "execution_count": 35,
   "metadata": {
    "collapsed": true
   },
   "outputs": [],
   "source": [
    "def addEdgeList(G, src, dst):\n",
    "    if src < 0 or src >= G.order:\n",
    "        raise Exception('Invalid src')\n",
    "    if dst < 0 or dst >= G.order:\n",
    "        raise Exception('Invalid dst')\n",
    "    G.adjLists[src].append(dst)\n",
    "    if not G.directed and src != dst:\n",
    "        G.adjLists[dst].append(src)\n",
    "    return G"
   ]
  },
  {
   "cell_type": "code",
   "execution_count": 36,
   "metadata": {
    "collapsed": true
   },
   "outputs": [],
   "source": [
    "def toDot(G):\n",
    "    if G.directed :\n",
    "        out = 'digraph G { \\n'\n",
    "        link = ' -> '\n",
    "    else :\n",
    "        out = 'graph   G { \\n'\n",
    "        link = ' -- '\n",
    "    for i in range (G.order):\n",
    "        for j in range (0 if G.directed else i , G.order):\n",
    "            for k in range(G.adj[i][j]):\n",
    "                out += '        '\n",
    "                out += str(i)\n",
    "                out += link\n",
    "                out += str(j)\n",
    "                out += ';\\n'\n",
    "    out += '}'\n",
    "    return out"
   ]
  },
  {
   "cell_type": "code",
   "execution_count": 37,
   "metadata": {
    "collapsed": false
   },
   "outputs": [],
   "source": [
    "G1 = GraphMat(3,True)\n",
    "G1.adj = [[0,1,0],\n",
    "          [0,0,1],\n",
    "          [1,0,0]]\n",
    "G2 = GraphMat(3)\n",
    "G2.adj = [[0,1,1],\n",
    "          [1,0,0],\n",
    "          [1,0,0]]"
   ]
  },
  {
   "cell_type": "code",
   "execution_count": 38,
   "metadata": {
    "collapsed": false
   },
   "outputs": [
    {
     "name": "stdout",
     "output_type": "stream",
     "text": [
      "digraph G { \n",
      "        0 -> 1;\n",
      "        1 -> 2;\n",
      "        2 -> 0;\n",
      "}\n"
     ]
    }
   ],
   "source": [
    "print (toDot(G1))"
   ]
  },
  {
   "cell_type": "code",
   "execution_count": 39,
   "metadata": {
    "collapsed": false
   },
   "outputs": [
    {
     "name": "stdout",
     "output_type": "stream",
     "text": [
      "graph   G { \n",
      "        0 -- 1;\n",
      "        0 -- 2;\n",
      "}\n"
     ]
    }
   ],
   "source": [
    "print (toDot(G2))"
   ]
  },
  {
   "cell_type": "code",
   "execution_count": 40,
   "metadata": {
    "collapsed": true
   },
   "outputs": [],
   "source": [
    "def fromGRA (filename):\n",
    "    file = open(filename, 'r')\n",
    "    directed = 0 != int(file.readline().strip())\n",
    "    order = int(file.readline().strip())\n",
    "    G = GraphMat(order, directed)\n",
    "    for line in file.readlines():\n",
    "        line = line.strip().split()\n",
    "        addEdge(G, int(line[0]), int(line[1]))\n",
    "    file.close()\n",
    "    return G\n",
    "#ex de fichier :\n",
    "#\n",
    "#  1      // directed\n",
    "#  2      // order\n",
    "#  0 1    // matrice\n",
    "#  2 3"
   ]
  },
  {
   "cell_type": "markdown",
   "metadata": {},
   "source": [
    "# Format List"
   ]
  },
  {
   "cell_type": "code",
   "execution_count": 41,
   "metadata": {
    "collapsed": false,
    "scrolled": false
   },
   "outputs": [
    {
     "data": {
      "text/plain": [
       "<__main__.GraphList at 0x102db5a20>"
      ]
     },
     "execution_count": 41,
     "metadata": {},
     "output_type": "execute_result"
    }
   ],
   "source": [
    "G3 = GraphList(9,True)\n",
    "addEdgeList(G3,0,1)\n",
    "addEdgeList(G3,0,1)\n",
    "addEdgeList(G3,0,1)\n",
    "addEdgeList(G3,1,3)\n",
    "addEdgeList(G3,1,3)\n",
    "addEdgeList(G3,2,6)\n",
    "addEdgeList(G3,2,8)\n",
    "addEdgeList(G3,3,6)\n",
    "addEdgeList(G3,4,3)\n",
    "addEdgeList(G3,5,6)\n",
    "addEdgeList(G3,5,2)\n",
    "addEdgeList(G3,6,3)\n",
    "addEdgeList(G3,6,4)\n",
    "addEdgeList(G3,7,5)\n",
    "addEdgeList(G3,7,6)\n",
    "addEdgeList(G3,7,8)\n",
    "addEdgeList(G3,8,8)"
   ]
  },
  {
   "cell_type": "code",
   "execution_count": 42,
   "metadata": {
    "collapsed": false
   },
   "outputs": [
    {
     "data": {
      "text/plain": [
       "<__main__.GraphList at 0x102db52e8>"
      ]
     },
     "execution_count": 42,
     "metadata": {},
     "output_type": "execute_result"
    }
   ],
   "source": [
    "G4 = GraphList(9,False)\n",
    "addEdgeList(G4,1,0)\n",
    "addEdgeList(G4,1,0)\n",
    "addEdgeList(G4,1,0)\n",
    "addEdgeList(G4,2,0)\n",
    "addEdgeList(G4,3,1)\n",
    "addEdgeList(G4,3,1)\n",
    "addEdgeList(G4,5,4)\n",
    "addEdgeList(G4,6,4)\n",
    "addEdgeList(G4,7,4)\n",
    "addEdgeList(G4,7,5)\n",
    "addEdgeList(G4,7,6)\n",
    "addEdgeList(G4,7,7)\n",
    "addEdgeList(G4,8,5)\n",
    "addEdgeList(G4,8,7)"
   ]
  },
  {
   "cell_type": "code",
   "execution_count": 43,
   "metadata": {
    "collapsed": true
   },
   "outputs": [],
   "source": [
    "class GraphList:\n",
    "    def __init__(self, order, directed = False):\n",
    "        self.order = order\n",
    "        self.directed = directed\n",
    "        self.adjList = []\n",
    "        for j in range(order):\n",
    "            self.adjList.append([])"
   ]
  },
  {
   "cell_type": "code",
   "execution_count": 44,
   "metadata": {
    "collapsed": true
   },
   "outputs": [],
   "source": [
    "def addEdge(G, src, dst):\n",
    "    if src < 0 or src >= G.order:\n",
    "        raise Exeption ('Invalide src')\n",
    "    if dst < 0 or dsr >= G.order:\n",
    "        raise Exeption ('Invalide dst')\n",
    "    G.adjList[src].append(dst)\n",
    "    if not G.directed:\n",
    "        G.adjList[dst].append(src)"
   ]
  },
  {
   "cell_type": "code",
   "execution_count": 45,
   "metadata": {
    "collapsed": true
   },
   "outputs": [],
   "source": [
    "#Dot Format (Liste)\n",
    "def toDotList(G,num):\n",
    "    if G.directed :\n",
    "        out = 'digraph G' + str(num) + '{\\n'\n",
    "        link = ' -> '\n",
    "    else :\n",
    "        out = 'graph G' + str(num) + '{\\n'\n",
    "        link = ' -- '\n",
    "    line = \"{}\" + link + \"{}\\n\"\n",
    "    for i in range (G.order):\n",
    "        jMax = G.order if G.directed else i+1\n",
    "        for j in G.adjLists[i]:\n",
    "            if j < jMax:\n",
    "                out += line.format(i,j)\n",
    "    out += \"}\"\n",
    "    return out"
   ]
  },
  {
   "cell_type": "markdown",
   "metadata": {},
   "source": [
    "# BFS/BFT (Breath Fisrst Search / Traversal)"
   ]
  },
  {
   "cell_type": "code",
   "execution_count": 55,
   "metadata": {
    "collapsed": false
   },
   "outputs": [
    {
     "ename": "SyntaxError",
     "evalue": "invalid syntax (<ipython-input-55-c03da15ab354>, line 11)",
     "output_type": "error",
     "traceback": [
      "\u001b[0;36m  File \u001b[0;32m\"<ipython-input-55-c03da15ab354>\"\u001b[0;36m, line \u001b[0;32m11\u001b[0m\n\u001b[0;31m    for dst in range G.adjLists[src]:\u001b[0m\n\u001b[0m                     ^\u001b[0m\n\u001b[0;31mSyntaxError\u001b[0m\u001b[0;31m:\u001b[0m invalid syntax\n"
     ]
    }
   ],
   "source": [
    "def __bfs (G, src):\n",
    "    M = [None] * G.order\n",
    "    Q = Queue()\n",
    "    Q = queue.enqueue (src, Q)\n",
    "    while not queue.enqueue(src, Q):\n",
    "        M[src] = -1\n",
    "    while not queue.isEmpty(Q):\n",
    "        src = queue.isEmpty(Q)\n",
    "        # for dst in range (G.order):\n",
    "            # if G.adj[src][dst] > 0 and M[dst]== None:\n",
    "        for dst in range G.adjLists[src]:\n",
    "            if M[dst]==None :\n",
    "                Q = queue.enqueue(dst,Q)\n",
    "                M[dst] = src"
   ]
  },
  {
   "cell_type": "code",
   "execution_count": 47,
   "metadata": {
    "collapsed": true
   },
   "outputs": [],
   "source": [
    "def bfs(G, src):\n",
    "    M = [None] * G.order\n",
    "    __bfs(G, src, M)\n",
    "    for som in range (G.order):\n",
    "        if M[som]== None:\n",
    "            __bfs(G, som,M)\n",
    "    return M"
   ]
  },
  {
   "cell_type": "markdown",
   "metadata": {},
   "source": [
    "# Parcour profondeur"
   ]
  },
  {
   "cell_type": "code",
   "execution_count": 48,
   "metadata": {
    "collapsed": true
   },
   "outputs": [],
   "source": [
    "def __dfsMat(G, src, M):\n",
    "    for dst in range(G.order):\n",
    "        if G.adj[src][dst] > 0:\n",
    "            if M[dst] == None:\n",
    "                M[dst] = src\n",
    "                print('edge', src, '->', dst)\n",
    "                __dfsMat(G, dst, M)\n",
    "            elif M[src] != dst:\n",
    "                print('back edge', src, '->', dst)"
   ]
  },
  {
   "cell_type": "code",
   "execution_count": 49,
   "metadata": {
    "collapsed": true
   },
   "outputs": [],
   "source": [
    "def dfsMat(G, src):\n",
    "    M = [ None ] * G.order\n",
    "    M[src] = -1\n",
    "    __dfsMat(G, src, M)\n",
    "    for som in range(G.order):\n",
    "        if M[som] == None:\n",
    "            M[som] = -1\n",
    "            __dfsMat(G, som, M)\n",
    "    return M"
   ]
  },
  {
   "cell_type": "code",
   "execution_count": 50,
   "metadata": {
    "collapsed": false
   },
   "outputs": [
    {
     "name": "stdout",
     "output_type": "stream",
     "text": [
      "edge 2 -> 0\n",
      "edge 0 -> 1\n",
      "back edge 1 -> 2\n"
     ]
    },
    {
     "data": {
      "text/plain": [
       "[2, 0, -1]"
      ]
     },
     "execution_count": 50,
     "metadata": {},
     "output_type": "execute_result"
    }
   ],
   "source": [
    "dfsMat(G1, 2)"
   ]
  },
  {
   "cell_type": "markdown",
   "metadata": {},
   "source": [
    "## Directed Graphs"
   ]
  },
  {
   "cell_type": "markdown",
   "metadata": {},
   "source": [
    "Edges : \"i -> j\":\n",
    "    * Covering : pref(i) < pref(j) < suff(j) < suff(i)\n",
    "    * Forward  : pref(i)+1 < pref(j) < suff(i) < suff(j)\n",
    "    * Back :     pref(j) < pref(i) < suff(j) < suff(i)\n",
    "    * Cross :    pref(j) < suff(j) < pref(i) < pref(j)"
   ]
  },
  {
   "cell_type": "code",
   "execution_count": 51,
   "metadata": {
    "collapsed": true
   },
   "outputs": [],
   "source": [
    "def __dfsAdj(G, src, M, cpt, preff, suff):\n",
    "    #Prefix \n",
    "    cpt += 1\n",
    "    pref[src] = cpt\n",
    "    #Successors\n",
    "    for dst in G.adjLists[src]:\n",
    "        if M[dst] == None:\n",
    "            M[dst] = src\n",
    "            # print ('edge', src, '->', dst)\n",
    "            cpt = _dfsAdj(G, dst, M, cpt, pref, suff)\n",
    "    # Suffix \n",
    "    cpt += 1\n",
    "    suff[srt] = cpt\n",
    "    return cpt"
   ]
  },
  {
   "cell_type": "code",
   "execution_count": 53,
   "metadata": {
    "collapsed": true
   },
   "outputs": [],
   "source": [
    "def dfsAdj(G, src):\n",
    "    M = [ None ]*G.order\n",
    "    pref = [ None ]*G.order\n",
    "    suff = [ None ]*G.order\n",
    "    cpt = 0\n",
    "    M[src] = -1\n",
    "    cpt = __dfsAdj(G, src, M, cpt, preff, suff)\n",
    "    for som in range (G.order):\n",
    "        if M[som]== None :\n",
    "            M[som] = -1\n",
    "            cpt = __dfsAdj(G,som, M, cpt, preff, suff)\n",
    "    return M, pref, suff"
   ]
  }
 ],
 "metadata": {
  "kernelspec": {
   "display_name": "Python 3",
   "language": "python",
   "name": "python3"
  },
  "language_info": {
   "codemirror_mode": {
    "name": "ipython",
    "version": 3
   },
   "file_extension": ".py",
   "mimetype": "text/x-python",
   "name": "python",
   "nbconvert_exporter": "python",
   "pygments_lexer": "ipython3",
   "version": "3.6.0"
  }
 },
 "nbformat": 4,
 "nbformat_minor": 2
}
