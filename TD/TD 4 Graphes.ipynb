{
 "cells": [
  {
   "cell_type": "markdown",
   "metadata": {},
   "source": [
    "# Graphes\n",
    "## 1 Representations / Implémentations\n",
    "### 1.1 Matrice d'adjacence"
   ]
  },
  {
   "cell_type": "markdown",
   "metadata": {},
   "source": [
    "implémentation"
   ]
  },
  {
   "cell_type": "code",
   "execution_count": 11,
   "metadata": {
    "collapsed": true
   },
   "outputs": [],
   "source": [
    "class GraphMat:\n",
    "    def __init__(self, order, directed = False):\n",
    "        self.order = order\n",
    "        self.directed = directed\n",
    "        self.adj = [[0 for j in range(order)]for i in range (order)]"
   ]
  },
  {
   "cell_type": "code",
   "execution_count": 12,
   "metadata": {
    "collapsed": false
   },
   "outputs": [],
   "source": [
    "def addEdge(G, src, dst):\n",
    "    if src < 0 or src >= G.order:\n",
    "        raise Exeption ('Invalide src')\n",
    "    if src < 0 or dat >= G.order:\n",
    "        raise Exeption ('Invalide dst')\n",
    "    G.adj[src][dst]+= 1\n",
    "    if not G.directed:\n",
    "        G.adj[dst][src]+= 1\n",
    "    return G"
   ]
  },
  {
   "cell_type": "code",
   "execution_count": 13,
   "metadata": {
    "collapsed": true
   },
   "outputs": [],
   "source": [
    "def toDot(G):\n",
    "    if G.directed :\n",
    "        out = 'digraph G { \\n'\n",
    "        link = ' -> '\n",
    "    else :\n",
    "        out = 'graph   G { \\n'\n",
    "        link = ' -- '\n",
    "    for i in range (G.order):\n",
    "        for j in range (0 if G.directed else i , G.order):\n",
    "            for k in range(G.adj[i][j]):\n",
    "                out += '        '\n",
    "                out += str(i)\n",
    "                out += link\n",
    "                out += str(j)\n",
    "                out += ';\\n'\n",
    "    out += '}'\n",
    "    return out"
   ]
  },
  {
   "cell_type": "code",
   "execution_count": 29,
   "metadata": {
    "collapsed": false
   },
   "outputs": [],
   "source": [
    "G1 = GraphMat(3,True)\n",
    "G1.adj = [[0,1,0],\n",
    "          [0,0,1],\n",
    "          [1,0,0]]\n",
    "G2 = GraphMat(3)\n",
    "G2.adj = [[0,1,1],\n",
    "          [1,0,0],\n",
    "          [1,0,0]]"
   ]
  },
  {
   "cell_type": "code",
   "execution_count": 15,
   "metadata": {
    "collapsed": false
   },
   "outputs": [
    {
     "name": "stdout",
     "output_type": "stream",
     "text": [
      "digraph G { \n",
      "        0 -> 1;\n",
      "        0 -> 2;\n",
      "        1 -> 1;\n",
      "        1 -> 2;\n",
      "        1 -> 2;\n",
      "        1 -> 2;\n",
      "        2 -> 1;\n",
      "        2 -> 1;\n",
      "        2 -> 1;\n",
      "        2 -> 2;\n",
      "}\n"
     ]
    }
   ],
   "source": [
    "print (toDot(G1))"
   ]
  },
  {
   "cell_type": "code",
   "execution_count": 16,
   "metadata": {
    "collapsed": false
   },
   "outputs": [
    {
     "name": "stdout",
     "output_type": "stream",
     "text": [
      "graph   G { \n",
      "        0 -- 1;\n",
      "        0 -- 2;\n",
      "}\n"
     ]
    }
   ],
   "source": [
    "print (toDot(G2))"
   ]
  },
  {
   "cell_type": "code",
   "execution_count": 17,
   "metadata": {
    "collapsed": true
   },
   "outputs": [],
   "source": [
    "def fromGRA (filename):\n",
    "    file = open(filename, 'r')\n",
    "    directed = 0 != int(file.readline().strip())\n",
    "    order = int(file.readline().strip())\n",
    "    G = GraphMat(order, directed)\n",
    "    for line in file.readlines():\n",
    "        line = line.strip().split()\n",
    "        addEdge(G, int(line[0]), int(line[1]))\n",
    "    file.close()\n",
    "    return G\n",
    "#ex de fichier :\n",
    "#\n",
    "#  1      // directed\n",
    "#  2      // order\n",
    "#  0 1    // matrice\n",
    "#  2 3"
   ]
  },
  {
   "cell_type": "markdown",
   "metadata": {},
   "source": [
    "# Format List"
   ]
  },
  {
   "cell_type": "code",
   "execution_count": 18,
   "metadata": {
    "collapsed": false
   },
   "outputs": [
    {
     "ename": "NameError",
     "evalue": "name 'GraphList' is not defined",
     "output_type": "error",
     "traceback": [
      "\u001b[0;31m---------------------------------------------------------------------------\u001b[0m",
      "\u001b[0;31mNameError\u001b[0m                                 Traceback (most recent call last)",
      "\u001b[0;32m<ipython-input-18-afccc11f8ffb>\u001b[0m in \u001b[0;36m<module>\u001b[0;34m()\u001b[0m\n\u001b[0;32m----> 1\u001b[0;31m \u001b[0mG3\u001b[0m \u001b[0;34m=\u001b[0m \u001b[0mGraphList\u001b[0m\u001b[0;34m(\u001b[0m\u001b[0;36m9\u001b[0m\u001b[0;34m,\u001b[0m\u001b[0;32mTrue\u001b[0m\u001b[0;34m)\u001b[0m\u001b[0;34m\u001b[0m\u001b[0m\n\u001b[0m\u001b[1;32m      2\u001b[0m \u001b[0maddEdgeList\u001b[0m\u001b[0;34m(\u001b[0m\u001b[0mG3\u001b[0m\u001b[0;34m,\u001b[0m\u001b[0;36m0\u001b[0m\u001b[0;34m,\u001b[0m\u001b[0;36m1\u001b[0m\u001b[0;34m)\u001b[0m\u001b[0;34m\u001b[0m\u001b[0m\n\u001b[1;32m      3\u001b[0m \u001b[0maddEdgeList\u001b[0m\u001b[0;34m(\u001b[0m\u001b[0mG3\u001b[0m\u001b[0;34m,\u001b[0m\u001b[0;36m0\u001b[0m\u001b[0;34m,\u001b[0m\u001b[0;36m1\u001b[0m\u001b[0;34m)\u001b[0m\u001b[0;34m\u001b[0m\u001b[0m\n\u001b[1;32m      4\u001b[0m \u001b[0maddEdgeList\u001b[0m\u001b[0;34m(\u001b[0m\u001b[0mG3\u001b[0m\u001b[0;34m,\u001b[0m\u001b[0;36m0\u001b[0m\u001b[0;34m,\u001b[0m\u001b[0;36m1\u001b[0m\u001b[0;34m)\u001b[0m\u001b[0;34m\u001b[0m\u001b[0m\n\u001b[1;32m      5\u001b[0m \u001b[0maddEdgeList\u001b[0m\u001b[0;34m(\u001b[0m\u001b[0mG3\u001b[0m\u001b[0;34m,\u001b[0m\u001b[0;36m1\u001b[0m\u001b[0;34m,\u001b[0m\u001b[0;36m3\u001b[0m\u001b[0;34m)\u001b[0m\u001b[0;34m\u001b[0m\u001b[0m\n",
      "\u001b[0;31mNameError\u001b[0m: name 'GraphList' is not defined"
     ]
    }
   ],
   "source": [
    "G3 = GraphList(9,True)\n",
    "addEdgeList(G3,0,1)\n",
    "addEdgeList(G3,0,1)\n",
    "addEdgeList(G3,0,1)\n",
    "addEdgeList(G3,1,3)\n",
    "addEdgeList(G3,1,3)\n",
    "addEdgeList(G3,2,6)\n",
    "addEdgeList(G3,2,8)\n",
    "addEdgeList(G3,3,6)\n",
    "addEdgeList(G3,4,3)\n",
    "addEdgeList(G3,5,6)\n",
    "addEdgeList(G3,5,2)\n",
    "addEdgeList(G3,6,3)\n",
    "addEdgeList(G3,6,4)\n",
    "addEdgeList(G3,7,5)\n",
    "addEdgeList(G3,7,6)\n",
    "addEdgeList(G3,7,8)\n",
    "addEdgeList(G3,8,8)"
   ]
  },
  {
   "cell_type": "code",
   "execution_count": 19,
   "metadata": {
    "collapsed": false
   },
   "outputs": [
    {
     "ename": "NameError",
     "evalue": "name 'GraphList' is not defined",
     "output_type": "error",
     "traceback": [
      "\u001b[0;31m---------------------------------------------------------------------------\u001b[0m",
      "\u001b[0;31mNameError\u001b[0m                                 Traceback (most recent call last)",
      "\u001b[0;32m<ipython-input-19-c6c1adc21536>\u001b[0m in \u001b[0;36m<module>\u001b[0;34m()\u001b[0m\n\u001b[0;32m----> 1\u001b[0;31m \u001b[0mG4\u001b[0m \u001b[0;34m=\u001b[0m \u001b[0mGraphList\u001b[0m\u001b[0;34m(\u001b[0m\u001b[0;36m9\u001b[0m\u001b[0;34m,\u001b[0m\u001b[0;32mFalse\u001b[0m\u001b[0;34m)\u001b[0m\u001b[0;34m\u001b[0m\u001b[0m\n\u001b[0m\u001b[1;32m      2\u001b[0m \u001b[0maddEdgeList\u001b[0m\u001b[0;34m(\u001b[0m\u001b[0mG4\u001b[0m\u001b[0;34m,\u001b[0m\u001b[0;36m1\u001b[0m\u001b[0;34m,\u001b[0m\u001b[0;36m0\u001b[0m\u001b[0;34m)\u001b[0m\u001b[0;34m\u001b[0m\u001b[0m\n\u001b[1;32m      3\u001b[0m \u001b[0maddEdgeList\u001b[0m\u001b[0;34m(\u001b[0m\u001b[0mG4\u001b[0m\u001b[0;34m,\u001b[0m\u001b[0;36m1\u001b[0m\u001b[0;34m,\u001b[0m\u001b[0;36m0\u001b[0m\u001b[0;34m)\u001b[0m\u001b[0;34m\u001b[0m\u001b[0m\n\u001b[1;32m      4\u001b[0m \u001b[0maddEdgeList\u001b[0m\u001b[0;34m(\u001b[0m\u001b[0mG4\u001b[0m\u001b[0;34m,\u001b[0m\u001b[0;36m1\u001b[0m\u001b[0;34m,\u001b[0m\u001b[0;36m0\u001b[0m\u001b[0;34m)\u001b[0m\u001b[0;34m\u001b[0m\u001b[0m\n\u001b[1;32m      5\u001b[0m \u001b[0maddEdgeList\u001b[0m\u001b[0;34m(\u001b[0m\u001b[0mG4\u001b[0m\u001b[0;34m,\u001b[0m\u001b[0;36m2\u001b[0m\u001b[0;34m,\u001b[0m\u001b[0;36m0\u001b[0m\u001b[0;34m)\u001b[0m\u001b[0;34m\u001b[0m\u001b[0m\n",
      "\u001b[0;31mNameError\u001b[0m: name 'GraphList' is not defined"
     ]
    }
   ],
   "source": [
    "G4 = GraphList(9,False)\n",
    "addEdgeList(G4,1,0)\n",
    "addEdgeList(G4,1,0)\n",
    "addEdgeList(G4,1,0)\n",
    "addEdgeList(G4,2,0)\n",
    "addEdgeList(G4,3,1)\n",
    "addEdgeList(G4,3,1)\n",
    "addEdgeList(G4,5,4)\n",
    "addEdgeList(G4,6,4)\n",
    "addEdgeList(G4,7,4)\n",
    "addEdgeList(G4,7,5)\n",
    "addEdgeList(G4,7,6)\n",
    "addEdgeList(G4,7,7)\n",
    "addEdgeList(G4,8,5)\n",
    "addEdgeList(G4,8,7)"
   ]
  },
  {
   "cell_type": "code",
   "execution_count": 20,
   "metadata": {
    "collapsed": true
   },
   "outputs": [],
   "source": [
    "class GraphList:\n",
    "    def __init__(self, order, directed = False):\n",
    "        self.order = order\n",
    "        self.directed = directed\n",
    "        self.adjList = []\n",
    "        for j in range(order):\n",
    "            self.adjList.append([])"
   ]
  },
  {
   "cell_type": "code",
   "execution_count": 21,
   "metadata": {
    "collapsed": true
   },
   "outputs": [],
   "source": [
    "def addEdge(G, src, dst):\n",
    "    if src < 0 or src >= G.order:\n",
    "        raise Exeption ('Invalide src')\n",
    "    if dst < 0 or dsr >= G.order:\n",
    "        raise Exeption ('Invalide dst')\n",
    "    G.adjList[src].append(dst)\n",
    "    if not G.directed:\n",
    "        G.adjList[dst].append(src)"
   ]
  },
  {
   "cell_type": "code",
   "execution_count": 22,
   "metadata": {
    "collapsed": true
   },
   "outputs": [],
   "source": [
    "#Dot Format (Liste)\n",
    "def toDotList(G,num):\n",
    "    if G.directed :\n",
    "        out = 'digraph G' + str(num) + '{\\n'\n",
    "        link = ' -> '\n",
    "    else :\n",
    "        out = 'graph G' + str(num) + '{\\n'\n",
    "        link = ' -- '\n",
    "    line = \"{}\" + link + \"{}\\n\"\n",
    "    for i in range (G.order):\n",
    "        jMax = G.order if G.directed else i+1\n",
    "        for j in G.adjLists[i]:\n",
    "            if j < jMax:\n",
    "                out += line.format(i,j)\n",
    "    out += \"}\"\n",
    "    return out"
   ]
  },
  {
   "cell_type": "markdown",
   "metadata": {},
   "source": [
    "# BFS/BFT (Breath Fisrst Search / Traversal)"
   ]
  },
  {
   "cell_type": "code",
   "execution_count": null,
   "metadata": {
    "collapsed": true
   },
   "outputs": [],
   "source": [
    "def __bfs (G, src):\n",
    "    M = [None] * G.order\n",
    "    Q = Queue()\n",
    "    Q = queue.enqueue (src, Q)\n",
    "    while not queue.enqueue(src, Q)\n",
    "    M[src] = -1\n",
    "    while not queue.isEmpty(Q):\n",
    "        src = queue.isEmpty(Q)\n",
    "        # for dst in range (G.order):\n",
    "            # if G.adj[src][dst] > 0 and M[dst]== None:\n",
    "        for dst in range G.adjList[src]:\n",
    "            if M[dst]==None :\n",
    "                Q = queue.enqueue(dst,Q)\n",
    "                M[dst] = src"
   ]
  },
  {
   "cell_type": "code",
   "execution_count": 1,
   "metadata": {
    "collapsed": true
   },
   "outputs": [],
   "source": [
    "def bfs(G, src):\n",
    "    M = [None] * G.order\n",
    "    __bfs(G, src, M)\n",
    "    for som in range (G.order):\n",
    "        if M[som]== None:\n",
    "            __bfs(G, som,M)\n",
    "    return M"
   ]
  },
  {
   "cell_type": "markdown",
   "metadata": {},
   "source": [
    "# Parcour profondeur"
   ]
  },
  {
   "cell_type": "code",
   "execution_count": 27,
   "metadata": {
    "collapsed": true
   },
   "outputs": [],
   "source": [
    "def __dfsMat(G, src, M):\n",
    "    for dst in range(G.order):\n",
    "        if G.adj[src][dst] > 0:\n",
    "            if M[dst] == None:\n",
    "                M[dst] = src\n",
    "                print('edge', src, '->', dst)\n",
    "                __dfsMat(G, dst, M)\n",
    "            elif M[src] != dst:\n",
    "                print('back edge', src, '->', dst)"
   ]
  },
  {
   "cell_type": "code",
   "execution_count": 26,
   "metadata": {
    "collapsed": true
   },
   "outputs": [],
   "source": [
    "def dfsMat(G, src):\n",
    "    M = [ None ] * G.order\n",
    "    M[src] = -1\n",
    "    __dfsMat(G, src, M)\n",
    "    for som in range(G.order):\n",
    "        if M[som] == None:\n",
    "            M[som] = -1\n",
    "            __dfsMat(G, som, M)\n",
    "    return M"
   ]
  },
  {
   "cell_type": "code",
   "execution_count": 30,
   "metadata": {
    "collapsed": false
   },
   "outputs": [
    {
     "name": "stdout",
     "output_type": "stream",
     "text": [
      "edge 2 -> 0\n",
      "edge 0 -> 1\n",
      "back edge 1 -> 2\n"
     ]
    },
    {
     "data": {
      "text/plain": [
       "[2, 0, -1]"
      ]
     },
     "execution_count": 30,
     "metadata": {},
     "output_type": "execute_result"
    }
   ],
   "source": [
    "dfsMat(G1, 2)"
   ]
  }
 ],
 "metadata": {
  "kernelspec": {
   "display_name": "Python 3",
   "language": "python",
   "name": "python3"
  },
  "language_info": {
   "codemirror_mode": {
    "name": "ipython",
    "version": 3
   },
   "file_extension": ".py",
   "mimetype": "text/x-python",
   "name": "python",
   "nbconvert_exporter": "python",
   "pygments_lexer": "ipython3",
   "version": "3.6.0"
  }
 },
 "nbformat": 4,
 "nbformat_minor": 2
}
