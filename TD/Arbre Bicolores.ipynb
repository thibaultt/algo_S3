{
 "cells": [
  {
   "cell_type": "code",
   "execution_count": 1,
   "metadata": {
    "collapsed": true
   },
   "outputs": [],
   "source": [
    "class RedBlackTree:\n",
    "    def __init__(self, key, red = False, left=None, right=None):\n",
    "        \"\"\"\n",
    "        Init Tree\n",
    "        \"\"\"\n",
    "        self.key = key\n",
    "        self.left = left\n",
    "        self.right = right\n",
    "        self.red = red"
   ]
  },
  {
   "cell_type": "code",
   "execution_count": 4,
   "metadata": {
    "collapsed": false
   },
   "outputs": [],
   "source": [
    "def size(B):\n",
    "    if B == None:\n",
    "        return 0\n",
    "    else:\n",
    "        return not(B.red) + size(B.left)+ size(B.right)\n",
    "       "
   ]
  },
  {
   "cell_type": "code",
   "execution_count": 6,
   "metadata": {
    "collapsed": true
   },
   "outputs": [],
   "source": [
    "def height(B):\n",
    "    if B == None:\n",
    "        return -1\n",
    "    else:\n",
    "        return (not(B.red)+ height(B.left))"
   ]
  },
  {
   "cell_type": "code",
   "execution_count": 8,
   "metadata": {
    "collapsed": false
   },
   "outputs": [
    {
     "ename": "SyntaxError",
     "evalue": "unexpected EOF while parsing (<ipython-input-8-e2b376bcf3c8>, line 8)",
     "output_type": "error",
     "traceback": [
      "\u001b[0;36m  File \u001b[0;32m\"<ipython-input-8-e2b376bcf3c8>\"\u001b[0;36m, line \u001b[0;32m8\u001b[0m\n\u001b[0;31m    T = RedBlackTree(B.keys[0], red = B.nbkeys>1, left = from234(children[0],right = from234(chilfren[1]))\u001b[0m\n\u001b[0m                                                                                                                       ^\u001b[0m\n\u001b[0;31mSyntaxError\u001b[0m\u001b[0;31m:\u001b[0m unexpected EOF while parsing\n"
     ]
    }
   ],
   "source": [
    "def from234(B):\n",
    "    if B == None:\n",
    "        return None\n",
    "    if B.children  == []:\n",
    "        children = [None]*(B.nbKeys+1)\n",
    "    else:\n",
    "        children = B.children\n",
    "    T = RedBlackTree(B.keys[0], red = B.nbkeys>1, left = from234(children[0],right = from234(chilfren[1]))             "
   ]
  }
 ],
 "metadata": {
  "kernelspec": {
   "display_name": "Python 3",
   "language": "python",
   "name": "python3"
  },
  "language_info": {
   "codemirror_mode": {
    "name": "ipython",
    "version": 3
   },
   "file_extension": ".py",
   "mimetype": "text/x-python",
   "name": "python",
   "nbconvert_exporter": "python",
   "pygments_lexer": "ipython3",
   "version": "3.6.0"
  }
 },
 "nbformat": 4,
 "nbformat_minor": 2
}
