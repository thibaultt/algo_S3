{
 "cells": [
  {
   "cell_type": "code",
   "execution_count": null,
   "metadata": {
    "collapsed": true
   },
   "outputs": [],
   "source": [
    "class BTree:\n",
    "    degree = None\n",
    "    def __init__(self, keys = None, children = None):\n",
    "        self.keys = keys if keys else []\n",
    "        self.children = children if children else []\n",
    "    @property\n",
    "    def nbkeys(self):\n",
    "        return len(self.keys)"
   ]
  },
  {
   "cell_type": "code",
   "execution_count": null,
   "metadata": {
    "collapsed": true
   },
   "outputs": [],
   "source": [
    "def fromList(s, d):\n",
    "    Btree.degree = d\n",
    "    B = None\n",
    "    return B"
   ]
  },
  {
   "cell_type": "markdown",
   "metadata": {},
   "source": [
    "# 1 Préliminaires"
   ]
  },
  {
   "cell_type": "markdown",
   "metadata": {},
   "source": [
    "### Exercice 1.3"
   ]
  },
  {
   "cell_type": "code",
   "execution_count": null,
   "metadata": {
    "collapsed": true
   },
   "outputs": [],
   "source": [
    "def BTree2list(B):\n",
    "    if B == None:\n",
    "        return \"\"\n",
    "    s,i= \"(<\", 0\n",
    "    while i < B.nbkeys - 1:\n",
    "        s += str(B.keys[i])+ \">\"\n",
    "        i += 1\n",
    "    s += str(B.keys[i])+ \">\"\n",
    "    for child in B.children:\n",
    "        s += Btree2List(child)\n",
    "    return s + \")\""
   ]
  },
  {
   "cell_type": "markdown",
   "metadata": {},
   "source": [
    "### Exercice 1.4"
   ]
  },
  {
   "cell_type": "code",
   "execution_count": null,
   "metadata": {
    "collapsed": true
   },
   "outputs": [],
   "source": [
    "def __rangeBTree(B, inf, sup, L):\n",
    "    i = 0\n",
    "    while i<B.nbkeys and B.keys[i]<inf:\n",
    "        i+=1\n",
    "    while i < B.nbkeys and B.keys[i] <= sup:\n",
    "        if B.children != []:\n",
    "            __rangeBTree(B.children[i],inf, sup, L)\n",
    "        L.append(B.keys[i])\n",
    "        i+=1\n",
    "    if B.children != []:\n",
    "        __rangeBTree(B.children[i], inf, sup, L)"
   ]
  },
  {
   "cell_type": "code",
   "execution_count": 1,
   "metadata": {
    "collapsed": true
   },
   "outputs": [],
   "source": [
    "def rangeBTree(B,inf,sup):\n",
    "    L = []\n",
    "    if B != None:\n",
    "        __rangeBTree(B, inf, sup, L)\n",
    "    return L"
   ]
  },
  {
   "cell_type": "markdown",
   "metadata": {},
   "source": [
    "# 2 Classiques :"
   ]
  },
  {
   "cell_type": "markdown",
   "metadata": {},
   "source": [
    "### Exercice 2.1"
   ]
  },
  {
   "cell_type": "code",
   "execution_count": 6,
   "metadata": {
    "collapsed": true
   },
   "outputs": [],
   "source": [
    "def minBTree(B):\n",
    "    while B.children != []:\n",
    "        B=B.children[0]\n",
    "    return B.key[0]"
   ]
  },
  {
   "cell_type": "code",
   "execution_count": 9,
   "metadata": {
    "collapsed": true
   },
   "outputs": [],
   "source": [
    "def maxBTree(B):\n",
    "    while B.children != []:\n",
    "        B = B.children[-1]\n",
    "    return B.key[-1]"
   ]
  },
  {
   "cell_type": "markdown",
   "metadata": {},
   "source": [
    "### Exercice 2.2"
   ]
  },
  {
   "cell_type": "code",
   "execution_count": 10,
   "metadata": {
    "collapsed": true
   },
   "outputs": [],
   "source": [
    "def __BinarySearchPos (L,x,left,right):\n",
    "    if right <= left :\n",
    "        return right\n",
    "    mid = left + (right - left)//2\n",
    "    if L[mid] == x:\n",
    "        return mid\n",
    "    elif x < L[mid]:\n",
    "        return __BinarySearchPos(L,x,left,mid)\n",
    "    else :\n",
    "        return __BinarySearchPos(L, x,mid+1,right)"
   ]
  },
  {
   "cell_type": "code",
   "execution_count": 11,
   "metadata": {
    "collapsed": true
   },
   "outputs": [],
   "source": [
    "def BinarySearchPos (L,x):\n",
    "    return __BinarySearchPos (L,x,0,len(L))"
   ]
  },
  {
   "cell_type": "code",
   "execution_count": 15,
   "metadata": {
    "collapsed": false
   },
   "outputs": [],
   "source": [
    "def __find (B,x):\n",
    "    pos = BinarySearchPos (B.keys,x)\n",
    "    if pos < B.nbkeys and B.keys[pos]==x:\n",
    "        return B, pos\n",
    "    else:\n",
    "        if B.children != []:\n",
    "            return __find (B.children[pos],x)\n",
    "        else:\n",
    "            return None"
   ]
  },
  {
   "cell_type": "code",
   "execution_count": 16,
   "metadata": {
    "collapsed": true
   },
   "outputs": [],
   "source": [
    "def find (B,x):\n",
    "    if B == None :\n",
    "        return None\n",
    "    else:\n",
    "        return __find(B,x)"
   ]
  },
  {
   "cell_type": "code",
   "execution_count": 17,
   "metadata": {
    "collapsed": true
   },
   "outputs": [],
   "source": [
    "def split(B,i):\n",
    "    mid  = BTree.degree -1\n",
    "    L = B.childen[i]\n",
    "    R = BTree()\n",
    "    #Keys\n",
    "    (L.keys, x, R.keys) = (L.keys[:mid], L.keys[mid],L.keys[mid+1:])\n",
    "    #Children\n",
    "    if L.childen != []:\n",
    "        (L.children, R.children) = (L.children[:mid+1], L.children[mid+1:])\n",
    "    #Root\n",
    "    B.keys.insert(i,x)\n",
    "    B.children.insert(i+1,R)"
   ]
  },
  {
   "cell_type": "code",
   "execution_count": 3,
   "metadata": {
    "collapsed": true
   },
   "outputs": [],
   "source": [
    "# B != None and B not full\n",
    "def __insert(x,B):\n",
    "    i = BinarrySearchPos(B.keys,x)\n",
    "    if i<B.nbkeys and B.keys[i] == x:\n",
    "        return False\n",
    "    elif B.children == []:\n",
    "        B.keys.insert(i,x)\n",
    "        return True\n",
    "    else:\n",
    "        if B.children[i].nbkeys == 2 * Btree.degree - 1:\n",
    "            if B.children[i].keys[BTree.degree-1]==x:\n",
    "                return False\n",
    "            split(B,i)\n",
    "            if B.keys[i]<x:\n",
    "                i+=1\n",
    "        return __insert(x,B.children[i])"
   ]
  },
  {
   "cell_type": "code",
   "execution_count": 4,
   "metadata": {
    "collapsed": true
   },
   "outputs": [],
   "source": [
    "# controle\n",
    "def insert(x,B):\n",
    "    __insert(x,b)\n",
    "    if b == None:\n",
    "        B = Btree([x])\n",
    "    else :\n",
    "        if B.nbkeys == 2 * BTree.degree - 1:\n",
    "            R = BTree([],[B])\n",
    "            split (R,0)\n",
    "            B = R\n",
    "        __insert(x,B)\n",
    "    return B"
   ]
  },
  {
   "cell_type": "code",
   "execution_count": null,
   "metadata": {
    "collapsed": true
   },
   "outputs": [],
   "source": [
    "BTree.degree = 2\n",
    "B = None\n",
    "for e in [10,20,30,40,50,60]:\n",
    "    B = insert(B,e)\n",
    "BTreeToDot()"
   ]
  },
  {
   "cell_type": "code",
   "execution_count": 5,
   "metadata": {
    "collapsed": true
   },
   "outputs": [],
   "source": [
    "def leftRotation(B,i):\n",
    "    L = B.children[i]\n",
    "    R = B.children[i+1]\n",
    "    L.keys.append(B.keys[i])\n",
    "    R.keys[i] = R.keys.pop(i)\n",
    "    if R.children != []:\n",
    "        L.children.append(R.children.pop(0))"
   ]
  },
  {
   "cell_type": "code",
   "execution_count": 6,
   "metadata": {
    "collapsed": true
   },
   "outputs": [],
   "source": [
    "def rightRotation(B,i):\n",
    "    R = B.children[i]\n",
    "    L = B.children[i+1]\n",
    "    R.keys.insert(0, B.keys[i-1])\n",
    "    R.keys[i-1] = L.keys.pop()\n",
    "    if L.children != []:\n",
    "        R.children.append(0,L.children.pop())"
   ]
  },
  {
   "cell_type": "code",
   "execution_count": 7,
   "metadata": {
    "collapsed": true
   },
   "outputs": [],
   "source": [
    "def merge (B,i):\n",
    "    L = B.children[i]\n",
    "    R = B.children.pop(i+1)\n",
    "    L.keys.append(B.keys.pop(i))\n",
    "    L.keys += R.keys\n",
    "    if R.children != []:\n",
    "        L.children += R.children"
   ]
  },
  {
   "cell_type": "code",
   "execution_count": 8,
   "metadata": {
    "collapsed": true
   },
   "outputs": [],
   "source": [
    "#controle\n",
    "def __delete(B,x):\n",
    "    i = BinarrySearchPos(B.keys,x)\n",
    "    if B.children != []:\n",
    "        if pos < B.nbkeys and x == B.keys[i]:\n",
    "            if B.children[i+1].nbkeys > B.children[i].nbkeys:\n",
    "                B.keys[i] = minBTree(B.children[i+1])\n",
    "                __delete(B.children[i+1], B.keys[i])\n",
    "            elif B.children[pos].nbkeys > BTree.degree -1:\n",
    "                B.keys[i] = maxBTree(B.children[i])\n",
    "                __delete(B.children[i], B.keys[i])\n",
    "            else:\n",
    "                merge(B,i)\n",
    "                __delete(B.children[i],x)\n",
    "        else:\n",
    "            if B.children[i].nbkeys == BTree.degree -1:\n",
    "                if i > 0 and B.children[i-1].nbkeys > BTree.degree -1:\n",
    "                    rightRotation(B,i)\n",
    "                elif i < B.nbkeys and B.children[i+1].nbkeys > BTree.degree - 1:\n",
    "                    leftRotation(B,i)\n",
    "                else:\n",
    "                    i = min(i,B.nbkeys-1)\n",
    "                    merge(B,i)\n",
    "            __delete(B.children[i],x)\n",
    "    else:\n",
    "        if i < B.nbkeys and x == B.keys[i]:\n",
    "            B.keys.pop(i)"
   ]
  },
  {
   "cell_type": "code",
   "execution_count": 9,
   "metadata": {
    "collapsed": true
   },
   "outputs": [],
   "source": [
    "def delete(B,x):\n",
    "    if B != None:\n",
    "        __delete(B,x)\n",
    "        if B.nbkeys > 0:\n",
    "            return B\n",
    "        elif B.children:\n",
    "            return B.children[O]\n",
    "    return None"
   ]
  }
 ],
 "metadata": {
  "kernelspec": {
   "display_name": "Python 3",
   "language": "python",
   "name": "python3"
  },
  "language_info": {
   "codemirror_mode": {
    "name": "ipython",
    "version": 3
   },
   "file_extension": ".py",
   "mimetype": "text/x-python",
   "name": "python",
   "nbconvert_exporter": "python",
   "pygments_lexer": "ipython3",
   "version": "3.6.0"
  }
 },
 "nbformat": 4,
 "nbformat_minor": 2
}
