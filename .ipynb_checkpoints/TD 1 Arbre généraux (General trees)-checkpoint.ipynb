{
 "cells": [
  {
   "cell_type": "code",
   "execution_count": 5,
   "metadata": {
    "collapsed": false
   },
   "outputs": [],
   "source": [
    "#from"
   ]
  },
  {
   "cell_type": "code",
   "execution_count": null,
   "metadata": {
    "collapsed": true
   },
   "outputs": [],
   "source": [
    "class tree :\n",
    "    #Simple class for general tree\"\"\"\n",
    "    def __init__(self, key=None,children=None):\n",
    "    #Init general tree, ensure children are properly set.\"\"\"\n",
    "        self.key = key\n",
    "        if children is not None:\n",
    "            self.children = children\n",
    "        else:\n",
    "            self.children = []"
   ]
  },
  {
   "cell_type": "code",
   "execution_count": 6,
   "metadata": {
    "collapsed": true
   },
   "outputs": [],
   "source": [
    "class TreeAsBin :\n",
    "    #simple class for (general) trees\n",
    "    #represented as binary trees(first child -right sibling)\n",
    "    def __init__(self, key, child=None, sibling=None):\n",
    "        #Init tree\n",
    "        self.key = key\n",
    "        self.child = child\n",
    "        self.sibling = sibling"
   ]
  },
  {
   "cell_type": "code",
   "execution_count": 8,
   "metadata": {
    "collapsed": false,
    "scrolled": false
   },
   "outputs": [],
   "source": [
    "#TD ALGO 1 Arbres Géneraux\n",
    "#Exercie 1.1"
   ]
  },
  {
   "cell_type": "code",
   "execution_count": 11,
   "metadata": {
    "collapsed": false
   },
   "outputs": [],
   "source": [
    "def taille01(A):\n",
    "    if A == None:\n",
    "        return 0\n",
    "    else:\n",
    "        x =1\n",
    "        for i in range(len(A.children)):\n",
    "            x += taille01(A.children[i])\n",
    "        return x"
   ]
  },
  {
   "cell_type": "code",
   "execution_count": 12,
   "metadata": {
    "collapsed": true
   },
   "outputs": [],
   "source": [
    "def taille02(A):\n",
    "    if A == None:\n",
    "        return 0\n",
    "    else:\n",
    "        x =1\n",
    "        while(A.sibling != None):\n",
    "            x += taille(A.sibling)\n",
    "            A = A.sibling\n",
    "        return x"
   ]
  },
  {
   "cell_type": "code",
   "execution_count": null,
   "metadata": {
    "collapsed": true
   },
   "outputs": [],
   "source": [
    "#Exercice 1.2"
   ]
  },
  {
   "cell_type": "code",
   "execution_count": 17,
   "metadata": {
    "collapsed": true
   },
   "outputs": [],
   "source": [
    "def hauteur01(A):\n",
    "    if A == None:\n",
    "        return -1\n",
    "    else :\n",
    "        return max (hauteur01(A.child)+1, hauteur01(A.sibling))"
   ]
  },
  {
   "cell_type": "code",
   "execution_count": null,
   "metadata": {
    "collapsed": true
   },
   "outputs": [],
   "source": [
    "def hauteur02(A):\n",
    "    if A == None:\n",
    "        return -1\n",
    "    else:\n",
    "        h = -1\n",
    "        child = A.child\n",
    "        while child != None:\n",
    "            h = max(h, hauteur02(child))\n",
    "            child = child.sibling\n",
    "        return 1+h"
   ]
  },
  {
   "cell_type": "code",
   "execution_count": 14,
   "metadata": {
    "collapsed": true
   },
   "outputs": [],
   "source": [
    "#Exercice 1.3"
   ]
  },
  {
   "cell_type": "code",
   "execution_count": 16,
   "metadata": {
    "collapsed": true
   },
   "outputs": [],
   "source": [
    "def __moyarite(A):\n",
    "    if A == None:\n",
    "        return 0,0\n",
    "    else:\n",
    "        nbint ,nblink = 0,0\n",
    "        if A.child != None:\n",
    "            nbint += 1\n",
    "        child = A.child\n",
    "        while child != None:\n",
    "            nblink += 1\n",
    "            chint, chlink = __moyarite(child)\n",
    "            nbint, nblink = nbint + chint, nblink + chlink\n",
    "            child = child.sibling\n",
    "        return nbint, nblink"
   ]
  },
  {
   "cell_type": "code",
   "execution_count": 18,
   "metadata": {
    "collapsed": true
   },
   "outputs": [],
   "source": [
    "def __moyarite(A):\n",
    "    if A == None:\n",
    "        return 0,0\n",
    "    else:\n",
    "        nbint = 1 if A.child else 1\n",
    "        nblink =0\n",
    "        chint , chlink = __moyarite(A.child)\n",
    "        sibint , siblink = __moyarite(A.sibling)\n",
    "        return (nbint + chint + sibint, nblink + chlink + sibint)"
   ]
  },
  {
   "cell_type": "code",
   "execution_count": 6,
   "metadata": {
    "collapsed": true
   },
   "outputs": [],
   "source": [
    "def moyarite(A):\n",
    "    if A == None:\n",
    "        raise Exeption(\"Empty tree\")\n",
    "    nbint, nblink = __moyarite(A)\n",
    "    if nbint == 0:\n",
    "        return 0\n",
    "    else:\n",
    "        return nblink / nbint"
   ]
  },
  {
   "cell_type": "code",
   "execution_count": null,
   "metadata": {
    "collapsed": true
   },
   "outputs": [],
   "source": [
    "#Exercice 2.1"
   ]
  },
  {
   "cell_type": "code",
   "execution_count": 10,
   "metadata": {
    "collapsed": true
   },
   "outputs": [],
   "source": [
    "def depth01(T,father = None):\n",
    "    if T != None:\n",
    "        #traitement prefixe\n",
    "        depth01(T.child,T)\n",
    "        #traitement suffice\n",
    "        if (father != None and T.sibling != None):\n",
    "        #if fahter and T.sibling :\n",
    "            #traitement intermédiaire sur father\n",
    "            depth01 (T.sibling, father)"
   ]
  },
  {
   "cell_type": "code",
   "execution_count": null,
   "metadata": {
    "collapsed": true
   },
   "outputs": [],
   "source": [
    "def depth01TAB(T):\n",
    "    if T == None :\n",
    "        return \n",
    "    #traitement prefixe\n",
    "    print ('prefix ', T.key)\n",
    "    child = T.child\n",
    "    while child != None :\n",
    "        depthTAB(child)\n",
    "        if child.sibling != None:\n",
    "            #inter\n",
    "            print ('intrer ', T.key)\n",
    "        child = child.sibling\n",
    "    #traitement suffixe\n",
    "    print('suffix ', T.key)"
   ]
  },
  {
   "cell_type": "code",
   "execution_count": null,
   "metadata": {
    "collapsed": true
   },
   "outputs": [],
   "source": [
    "def depth02(T):\n",
    "    if T:\n",
    "        #traitement prefixe\n",
    "        if T.nbChildren > 0:\n",
    "            for i in range (T.nbChildren-1):\n",
    "                depth02(T.children[i])\n",
    "                #traitement intermédiaire\n",
    "            depth02(T.children[-1])\n",
    "        #traitement suffixe"
   ]
  },
  {
   "cell_type": "code",
   "execution_count": null,
   "metadata": {
    "collapsed": true
   },
   "outputs": [],
   "source": [
    "#Exercice 2.2 "
   ]
  },
  {
   "cell_type": "code",
   "execution_count": 3,
   "metadata": {
    "collapsed": true
   },
   "outputs": [],
   "source": [
    "def withTAB(T):\n",
    "    q = Queue()\n",
    "    queue.enqueue(T,q)\n",
    "    queue.enqueue(None,q)\n",
    "    while not queue.isEmpty (q):\n",
    "        node = queue.dequeue(q)\n",
    "        if node == None:\n",
    "            print()\n",
    "            if not queue.isEmpty (q):\n",
    "                queue.enqueue.child\n",
    "        else:\n",
    "            print(node.key, end=' ')\n",
    "            child = node.child\n",
    "            while child != None:\n",
    "                queue.enqueue(child, q)\n",
    "                child = child.sibling"
   ]
  },
  {
   "cell_type": "code",
   "execution_count": 4,
   "metadata": {
    "collapsed": true
   },
   "outputs": [],
   "source": [
    "def breadth(T):\n",
    "    q = Queue()\n",
    "    queue.enqueue(T,q)\n",
    "    queue.enqueue(None,q)\n",
    "    while not queue.isEmpty (q):\n",
    "        node = queue.dequeue(q)\n",
    "        if node == None:\n",
    "            print()\n",
    "            if not queue.isEmpty (q):\n",
    "                queue.enqueue.child\n",
    "        else:\n",
    "            print(node.key, end=' ')\n",
    "            for i in range (T.nbChildren):\n",
    "                queue.enqueue(T.children[i])"
   ]
  },
  {
   "cell_type": "code",
   "execution_count": 9,
   "metadata": {
    "collapsed": true
   },
   "outputs": [],
   "source": [
    "#Exercice 3.1"
   ]
  },
  {
   "cell_type": "code",
   "execution_count": 17,
   "metadata": {
    "collapsed": true
   },
   "outputs": [],
   "source": [
    "def __preSuff01 (T, L):\n",
    "    if T == None:\n",
    "        return\n",
    "    #preffix\n",
    "    L.append(T.key)\n",
    "    #children\n",
    "    for i in range (T.nbChildren):\n",
    "        prefSuff(T.children[i],L)\n",
    "    #suff\n",
    "    L.append(T.key)\n",
    "    return L"
   ]
  },
  {
   "cell_type": "code",
   "execution_count": null,
   "metadata": {
    "collapsed": true
   },
   "outputs": [],
   "source": [
    "def __preSuff (T, L):\n",
    "    if T == None:\n",
    "        return\n",
    "    #preffix\n",
    "    L.append(T.key)\n",
    "    #children\n",
    "    for i in range (T.nbChildren):\n",
    "        prefSuff(T.children[i],L)\n",
    "    #suff\n",
    "    L.append(T.key)\n",
    "    return L\n",
    "\n",
    "def prefSuff(T):\n",
    "    __prefSuff(T,[])"
   ]
  },
  {
   "cell_type": "code",
   "execution_count": 15,
   "metadata": {
    "collapsed": true
   },
   "outputs": [],
   "source": [
    "#Exercice 3.2"
   ]
  },
  {
   "cell_type": "code",
   "execution_count": null,
   "metadata": {
    "collapsed": true
   },
   "outputs": [],
   "source": [
    "def __vect(T,father=None):\n",
    "    if T != None:\n",
    "        l.append(T.key)\n",
    "        depth01(T.child,T)\n",
    "        if (father != None and T.sibling != None):\n",
    "        #if fahter and T.sibling :\n",
    "            #traitement intermédiaire sur father\n",
    "            depth01 (T.sibling, father)"
   ]
  },
  {
   "cell_type": "code",
   "execution_count": null,
   "metadata": {
    "collapsed": true
   },
   "outputs": [],
   "source": [
    "def isequal(T,A):\n",
    "        "
   ]
  }
 ],
 "metadata": {
  "kernelspec": {
   "display_name": "Python 3",
   "language": "python",
   "name": "python3"
  },
  "language_info": {
   "codemirror_mode": {
    "name": "ipython",
    "version": 3
   },
   "file_extension": ".py",
   "mimetype": "text/x-python",
   "name": "python",
   "nbconvert_exporter": "python",
   "pygments_lexer": "ipython3",
   "version": "3.6.0"
  }
 },
 "nbformat": 4,
 "nbformat_minor": 2
}
