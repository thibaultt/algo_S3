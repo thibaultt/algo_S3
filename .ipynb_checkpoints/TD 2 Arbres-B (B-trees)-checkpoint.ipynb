{
 "cells": [
  {
   "cell_type": "code",
   "execution_count": null,
   "metadata": {
    "collapsed": true
   },
   "outputs": [],
   "source": [
    "class BTree:\n",
    "    degree = None\n",
    "    def __init__(self, keys = None, children = None):\n",
    "        self.keus = keys if keys else []\n",
    "        self.children = children if children else []\n",
    "    @property\n",
    "    def nbkeys(self):\n",
    "        return len(self.keys)"
   ]
  },
  {
   "cell_type": "code",
   "execution_count": null,
   "metadata": {
    "collapsed": true
   },
   "outputs": [],
   "source": [
    "def fromList(s, d):\n",
    "    Btree.degree = d\n",
    "    B = None\n",
    "    return B"
   ]
  },
  {
   "cell_type": "markdown",
   "metadata": {},
   "source": [
    "# 1 Préliminaires"
   ]
  },
  {
   "cell_type": "markdown",
   "metadata": {},
   "source": [
    "### Exercice 1.3"
   ]
  },
  {
   "cell_type": "code",
   "execution_count": null,
   "metadata": {
    "collapsed": true
   },
   "outputs": [],
   "source": [
    "def BTree2list(B):\n"
   ]
  }
 ],
 "metadata": {
  "kernelspec": {
   "display_name": "Python 3",
   "language": "python",
   "name": "python3"
  }
 },
 "nbformat": 4,
 "nbformat_minor": 2
}
